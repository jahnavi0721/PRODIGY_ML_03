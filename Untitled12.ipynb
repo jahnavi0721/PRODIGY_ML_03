{
  "nbformat": 4,
  "nbformat_minor": 0,
  "metadata": {
    "colab": {
      "provenance": [],
      "authorship_tag": "ABX9TyP0bJR4ARBk7u2pjIRtRzSh",
      "include_colab_link": true
    },
    "kernelspec": {
      "name": "python3",
      "display_name": "Python 3"
    },
    "language_info": {
      "name": "python"
    }
  },
  "cells": [
    {
      "cell_type": "markdown",
      "metadata": {
        "id": "view-in-github",
        "colab_type": "text"
      },
      "source": [
        "<a href=\"https://colab.research.google.com/github/jahnavi0721/PRODIGY_ML_03/blob/main/Untitled12.ipynb\" target=\"_parent\"><img src=\"https://colab.research.google.com/assets/colab-badge.svg\" alt=\"Open In Colab\"/></a>"
      ]
    },
    {
      "cell_type": "code",
      "execution_count": null,
      "metadata": {
        "id": "Bz3ZrUD0WrT_"
      },
      "outputs": [],
      "source": [
        "import pandas as pd\n",
        "import numpy as np\n",
        "import tensorflow as tf\n",
        "\n",
        "import warnings\n",
        "warnings.filterwarnings('ignore')\n",
        "\n",
        "from tensorflow.compat.v1 import ConfigProto\n",
        "from tensorflow.compat.v1 import InteractiveSession\n",
        "\n",
        "config = ConfigProto()\n",
        "config.gpu_options.per_process_gpu_memory_fraction = 0.6\n",
        "config.gpu_options.allow_growth = True\n",
        "session = InteractiveSession(config=config)\n",
        "\n",
        "datagen1 = ImageDataGenerator(rescale=1./255)\n",
        "\n",
        "test_set = datagen1.flow_from_directory(\n",
        "        \"../input/cat-and-dog/test_set/test_set\",\n",
        "        target_size=(64, 64),\n",
        "        batch_size=32,\n",
        "        class_mode=\"binary\"\n",
        "      )\n",
        "\n",
        "from tensorflow.keras.layers import Conv2D\n",
        "from tensorflow.keras.layers import Dense\n",
        "from tensorflow.keras.regularizers import l2\n",
        "cnn = tf.keras.models.Sequential()\n",
        "cnn = tf.keras.models.Sequential()cnn.add(tf.keras.layers.Conv2D(filters=32,padding='same',kernel_size=3, activation='relu'))\n",
        "cnn.add(tf.keras.layers.MaxPool2D(pool_size=2, strides=2))\n",
        "cnn.add(tf.keras.layers.Flatten())cnn.add(Dense(1, kernel_regularizer=tf.keras.regularizers.l2(0.01),activation\n",
        "             ='linear'))\n",
        "             cnn.summary()\n",
        "\n",
        "cnn.compile(optimizer = 'adam', loss = 'hinge', metrics = ['accuracy'])\n",
        "r=cnn.fit(x = training_set, validation_data = test_set, epochs = 15)\n",
        "# plot the loss\n",
        "import matplotlib.pyplot as plt\n",
        "plt.plot(r.history['loss'], label='train loss')\n",
        "plt.plot(r.history['val_loss'], label='val loss')\n",
        "plt.legend()\n",
        "plt.show()\n",
        "\n",
        "# plot the accuracy\n",
        "plt.plot(r.history['accuracy'], label='train acc')\n",
        "plt.plot(r.history['val_accuracy'], label='val acc')\n",
        "plt.legend()\n",
        "plt.show()from tensorflow.keras.models import load_model\n",
        "\n",
        "cnn.save('./model_rcat_dog.h5')\n",
        "from tensorflow.keras.preprocessing import image\n",
        "test_image = image.load_img('../input/cat-and-dog/training_set/training_set/dogs/dog.1023.jpg', target_size = (64,64))\n",
        "test_image = image.img_to_array(test_image)\n",
        "test_image=test_image/255\n",
        "test_image = np.expand_dims(test_image, axis = 0)\n",
        "result = cnn.predict(test_image)\n",
        "if result[0]<0:\n",
        "    print(\"The image classified is cat\")\n",
        "else:\n",
        "    print(\"The image classified is dog\")if result[0]<0:\n",
        "    print(\"The image classified is cat\")\n",
        "else:\n",
        "    print(\"The image classified is dog\")\n",
        "\n",
        ""
      ]
    }
  ]
}